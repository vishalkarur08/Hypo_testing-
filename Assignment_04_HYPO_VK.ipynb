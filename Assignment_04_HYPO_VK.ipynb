{
  "nbformat": 4,
  "nbformat_minor": 0,
  "metadata": {
    "colab": {
      "provenance": [],
      "authorship_tag": "ABX9TyMzO1VZ82zPWuhN4LLuEdtY",
      "include_colab_link": true
    },
    "kernelspec": {
      "name": "python3",
      "display_name": "Python 3"
    },
    "language_info": {
      "name": "python"
    }
  },
  "cells": [
    {
      "cell_type": "markdown",
      "metadata": {
        "id": "view-in-github",
        "colab_type": "text"
      },
      "source": [
        "<a href=\"https://colab.research.google.com/github/vishalkarur08/Hypo_testing-/blob/main/Assignment_04_HYPO_VK.ipynb\" target=\"_parent\"><img src=\"https://colab.research.google.com/assets/colab-badge.svg\" alt=\"Open In Colab\"/></a>"
      ]
    },
    {
      "cell_type": "markdown",
      "metadata": {
        "id": "cc4c960d"
      },
      "source": [
        "# Task\n",
        "Perform a hypothesis test to investigate the restaurant owners' claim that the weekly operating costs are higher than the theoretical model suggests. Follow the provided steps: state hypotheses, calculate the test statistic, determine the critical value, make a decision, and state a conclusion. Use the given data: theoretical cost model W = $1,000 + $5X, sample mean weekly cost of Rs. 3,050 from 25 restaurants, and X follows a normal distribution with mean 600 and standard deviation 25. Use an alpha level of 5%."
      ]
    },
    {
      "cell_type": "markdown",
      "metadata": {
        "id": "bffc80cc"
      },
      "source": [
        "## State the hypotheses\n",
        "\n",
        "### Subtask:\n",
        "Define the null and alternative hypotheses for the test.\n"
      ]
    },
    {
      "cell_type": "markdown",
      "metadata": {
        "id": "91688a43"
      },
      "source": [
        "**Reasoning**:\n",
        "Define the null and alternative hypotheses based on the problem description.\n",
        "\n"
      ]
    },
    {
      "cell_type": "code",
      "metadata": {
        "colab": {
          "base_uri": "https://localhost:8080/"
        },
        "id": "0ea1bb3b",
        "outputId": "5041e9ac-6bcd-49f3-9ee5-6961d5ef63d9"
      },
      "source": [
        "# The theoretical cost model is W = $1,000 + $5X\n",
        "# X follows a normal distribution with mean 600 and standard deviation 25\n",
        "# The theoretical mean weekly operating cost is E[W] = E[1000 + 5X] = 1000 + 5 * E[X]\n",
        "theoretical_mean_cost = 1000 + 5 * 600\n",
        "\n",
        "# Null Hypothesis (H0): The mean weekly operating cost is equal to the theoretical mean cost.\n",
        "# H0: mu = theoretical_mean_cost\n",
        "\n",
        "# Alternative Hypothesis (H1): The mean weekly operating cost is higher than the theoretical mean cost.\n",
        "# H1: mu > theoretical_mean_cost\n",
        "\n",
        "print(f\"Null Hypothesis (H0): The mean weekly operating cost is equal to ${theoretical_mean_cost}\")\n",
        "print(f\"Alternative Hypothesis (H1): The mean weekly operating cost is higher than ${theoretical_mean_cost}\")"
      ],
      "execution_count": null,
      "outputs": [
        {
          "output_type": "stream",
          "name": "stdout",
          "text": [
            "Null Hypothesis (H0): The mean weekly operating cost is equal to $4000\n",
            "Alternative Hypothesis (H1): The mean weekly operating cost is higher than $4000\n"
          ]
        }
      ]
    },
    {
      "cell_type": "markdown",
      "metadata": {
        "id": "f38e2bca"
      },
      "source": [
        "## Calculate the test statistic\n",
        "\n",
        "### Subtask:\n",
        "Calculate the test statistic using the provided formula and data.\n"
      ]
    },
    {
      "cell_type": "markdown",
      "metadata": {
        "id": "f13d0233"
      },
      "source": [
        "**Reasoning**:\n",
        "Calculate the test statistic based on the provided formula and data.\n",
        "\n"
      ]
    },
    {
      "cell_type": "code",
      "metadata": {
        "colab": {
          "base_uri": "https://localhost:8080/"
        },
        "id": "26e35e44",
        "outputId": "495bccdf-9a0b-4464-f647-0c1ef735df0c"
      },
      "source": [
        "import numpy as np\n",
        "\n",
        "# Sample mean weekly cost\n",
        "sample_mean_cost = 3050\n",
        "\n",
        "# Sample size\n",
        "n = 25\n",
        "\n",
        "# Standard deviation of X\n",
        "std_dev_X = 25\n",
        "\n",
        "# Calculate the theoretical standard deviation of the weekly operating cost (W)\n",
        "# Since W = 1000 + 5X, the standard deviation of W is 5 * std_dev_X\n",
        "theoretical_std_dev_W = 5 * std_dev_X\n",
        "\n",
        "# Calculate the standard error of the sample mean weekly cost\n",
        "# Standard error = theoretical_std_dev_W / sqrt(n)\n",
        "standard_error = theoretical_std_dev_W / np.sqrt(n)\n",
        "\n",
        "# Calculate the test statistic (Z-score)\n",
        "# Z = (sample_mean - theoretical_mean) / standard_error\n",
        "test_statistic = (sample_mean_cost - theoretical_mean_cost) / standard_error\n",
        "\n",
        "print(f\"Theoretical standard deviation of W: {theoretical_std_dev_W}\")\n",
        "print(f\"Standard error of the sample mean: {standard_error}\")\n",
        "print(f\"Test statistic (Z-score): {test_statistic}\")"
      ],
      "execution_count": null,
      "outputs": [
        {
          "output_type": "stream",
          "name": "stdout",
          "text": [
            "Theoretical standard deviation of W: 125\n",
            "Standard error of the sample mean: 25.0\n",
            "Test statistic (Z-score): -38.0\n"
          ]
        }
      ]
    },
    {
      "cell_type": "markdown",
      "metadata": {
        "id": "df7073bd"
      },
      "source": [
        "## Determine the critical value\n",
        "\n",
        "### Subtask:\n",
        "Find the critical value from the standard normal distribution table for the given alpha level.\n"
      ]
    },
    {
      "cell_type": "markdown",
      "metadata": {
        "id": "12567399"
      },
      "source": [
        "**Reasoning**:\n",
        "Find the critical value for a one-tailed test with alpha = 0.05.\n",
        "\n"
      ]
    },
    {
      "cell_type": "code",
      "metadata": {
        "colab": {
          "base_uri": "https://localhost:8080/"
        },
        "id": "200512f9",
        "outputId": "81c1b67f-e410-4174-f15a-ed1b41dc9fa9"
      },
      "source": [
        "from scipy.stats import norm\n",
        "\n",
        "# Since this is a one-tailed test (H1: mu > theoretical_mean_cost) and the alpha level is 5% (0.05),\n",
        "# we find the Z-score corresponding to a cumulative probability of 1 - 0.05 = 0.95 in the standard normal distribution table.\n",
        "critical_value = norm.ppf(0.95)\n",
        "\n",
        "print(f\"Critical value: {critical_value}\")"
      ],
      "execution_count": null,
      "outputs": [
        {
          "output_type": "stream",
          "name": "stdout",
          "text": [
            "Critical value: 1.6448536269514722\n"
          ]
        }
      ]
    },
    {
      "cell_type": "markdown",
      "metadata": {
        "id": "4abf88e8"
      },
      "source": [
        "## Make a decision\n",
        "\n",
        "### Subtask:\n",
        "Compare the test statistic and critical value to decide whether to reject the null hypothesis.\n"
      ]
    },
    {
      "cell_type": "markdown",
      "metadata": {
        "id": "856d6ce0"
      },
      "source": [
        "**Reasoning**:\n",
        "Compare the test statistic and critical value and determine whether to reject the null hypothesis.\n",
        "\n"
      ]
    },
    {
      "cell_type": "code",
      "metadata": {
        "colab": {
          "base_uri": "https://localhost:8080/"
        },
        "id": "4a2c7332",
        "outputId": "4bf2c39a-8e8d-400e-d700-2bfced6e713d"
      },
      "source": [
        "# Compare the test statistic with the critical value\n",
        "# For a right-tailed test, we reject H0 if test_statistic > critical_value\n",
        "if test_statistic > critical_value:\n",
        "    decision = \"Reject H0\"\n",
        "else:\n",
        "    decision = \"Fail to reject H0\"\n",
        "\n",
        "# Print the decision\n",
        "print(f\"Test Statistic: {test_statistic}\")\n",
        "print(f\"Critical Value: {critical_value}\")\n",
        "print(f\"Decision: {decision}\")"
      ],
      "execution_count": null,
      "outputs": [
        {
          "output_type": "stream",
          "name": "stdout",
          "text": [
            "Test Statistic: -38.0\n",
            "Critical Value: 1.6448536269514722\n",
            "Decision: Fail to reject H0\n"
          ]
        }
      ]
    },
    {
      "cell_type": "markdown",
      "metadata": {
        "id": "d0881a42"
      },
      "source": [
        "## State the conclusion\n",
        "\n",
        "### Subtask:\n",
        "Based on the decision, write a conclusion about the restaurant owners' claim.\n"
      ]
    },
    {
      "cell_type": "markdown",
      "metadata": {
        "id": "832a504a"
      },
      "source": [
        "**Reasoning**:\n",
        "Write the conclusion based on the decision to fail to reject the null hypothesis, stating whether there is sufficient evidence to support the claim and mentioning the relationship between the test statistic and critical value.\n",
        "\n"
      ]
    },
    {
      "cell_type": "code",
      "metadata": {
        "colab": {
          "base_uri": "https://localhost:8080/"
        },
        "id": "3347539d",
        "outputId": "07fd9540-f450-4d5b-ca8a-4257ff8498b0"
      },
      "source": [
        "# Based on the decision to \"Fail to reject H0\", write the conclusion.\n",
        "\n",
        "conclusion = f\"\"\"\n",
        "Conclusion:\n",
        "\n",
        "Based on a one-tailed hypothesis test at the 5% significance level, the test statistic (-38.0) is less than the critical value (1.645). Since the test statistic does not fall in the rejection region (test statistic > critical value), we fail to reject the null hypothesis.\n",
        "\n",
        "There is not sufficient statistical evidence at the 5% significance level to support the restaurant owners' claim that the weekly operating costs are higher than the theoretical model suggests.\n",
        "\"\"\"\n",
        "\n",
        "print(conclusion)"
      ],
      "execution_count": null,
      "outputs": [
        {
          "output_type": "stream",
          "name": "stdout",
          "text": [
            "\n",
            "Conclusion:\n",
            "\n",
            "Based on a one-tailed hypothesis test at the 5% significance level, the test statistic (-38.0) is less than the critical value (1.645). Since the test statistic does not fall in the rejection region (test statistic > critical value), we fail to reject the null hypothesis.\n",
            "\n",
            "There is not sufficient statistical evidence at the 5% significance level to support the restaurant owners' claim that the weekly operating costs are higher than the theoretical model suggests.\n",
            "\n"
          ]
        }
      ]
    },
    {
      "cell_type": "markdown",
      "metadata": {
        "id": "ecf297ae"
      },
      "source": [
        "## Summary:\n",
        "\n",
        "### Data Analysis Key Findings\n",
        "\n",
        "*   The theoretical mean weekly operating cost based on the model \\(W = \\$1,000 + \\$5X\\) and \\(E[X] = 600\\) is calculated to be \\$4,000.\n",
        "*   The standard deviation of the weekly operating cost (W) is calculated as 5 times the standard deviation of X, which is \\$125.\n",
        "*   The standard error of the sample mean weekly cost for a sample of 25 restaurants is calculated as \\$25.\n",
        "*   The calculated test statistic (Z-score) is -38.0.\n",
        "*   For a one-tailed test with an alpha level of 5%, the critical value from the standard normal distribution is approximately 1.645.\n",
        "*   Since the test statistic (-38.0) is less than the critical value (1.645), the decision is to fail to reject the null hypothesis.\n",
        "\n",
        "### Insights or Next Steps\n",
        "\n",
        "*   The sample mean (\\$3,050) is significantly lower than the theoretical mean (\\$4,000), which is contrary to the restaurant owners' claim of higher costs.\n",
        "*   Investigate potential reasons for the discrepancy between the sample mean and the theoretical mean, such as inaccuracies in the theoretical model or data collection issues.\n"
      ]
    }
  ]
}